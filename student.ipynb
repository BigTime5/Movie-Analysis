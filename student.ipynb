{
 "cells": [
  {
   "cell_type": "markdown",
   "metadata": {},
   "source": [
    "## Final Project Submission\n",
    "\n",
    "Please fill out:\n",
    "* Student name: **PHINIDY GEORGE**\n",
    "* Student pace: self paced / part time / full time\n",
    "* Scheduled project review date/time: \n",
    "* Instructor name: ASHA DEEN\n",
    "* Blog post URL:\n"
   ]
  },
  {
   "cell_type": "markdown",
   "metadata": {},
   "source": [
    "**1.BUSINESS UNDERSTANDING**"
   ]
  },
  {
   "cell_type": "markdown",
   "metadata": {},
   "source": [
    "**a) Introduction**\n",
    "\n",
    "Microsoft,a tech giant known for its software and hardware products,is venturing into the movie industry by establing a new movie studio.This strategic move aims to diversify microsoft business portfolio and capitalize on the growing demand for original video content."
   ]
  },
  {
   "cell_type": "markdown",
   "metadata": {},
   "source": [
    "**b) Problem statement**\n",
    "\n",
    "Microsoft faces the challenge of navigating the complex and competitive landscape of the movie industry without prior knowledge or experience.The lack of understanding about successful movie genre,audience preference and industry trends makes it challenging for Microsoft to make informed decision about content creation.Without proper insights,Microsoft risk investing resources in projects that may not resonate with audience or generate significant returns."
   ]
  },
  {
   "cell_type": "markdown",
   "metadata": {},
   "source": [
    "**c) Objective**\n",
    "\n",
    "The primary objective of this analysis is to provide Microsoft new movie studio with actionable insights into successfull movie genre and market trends.By exploring data from various sources,including box office performance ,audience ratings and genre performance,we aim to identify patterns and trends that can inform content creation strategies.Ultimately, our goal is to equip Microsoft with the knowledge and understanding needed to produce engaging and commercially successful movies that resonate with audiences and contribute to the studio's long-term success in the movie industry."
   ]
  },
  {
   "cell_type": "code",
   "execution_count": null,
   "metadata": {},
   "outputs": [],
   "source": [
    "#importing libraries\n",
    "\n",
    "# Importing libraries for data manipulation\n",
    "import pandas as pd\n",
    "import numpy as np\n",
    "\n",
    "# Importing libraries for database access\n",
    "import sqlite3\n",
    "\n",
    "# Importing libraries for visualization\n",
    "import matplotlib.pyplot as plt\n",
    "import seaborn as sns\n",
    "\n",
    "# Magic command to display plots inline\n",
    "%matplotlib inline"
   ]
  },
  {
   "cell_type": "markdown",
   "metadata": {},
   "source": [
    "**2) DATA UNDERSTANDING**\n",
    "\n",
    "To understand successful movie genres, we will analyze datasets from various sources, including Box Office Mojo, IMDB, Rotten Tomatoes, TheMovieDB, and The Numbers. These datasets contain information about movie titles, genres, box office revenues, ratings, and more. By examining these datasets, we can gain insights into which movie genres are popular among audiences and performing well financially."
   ]
  },
  {
   "cell_type": "markdown",
   "metadata": {},
   "source": [
    "**a)Financial performance of the studios**(df_studio)"
   ]
  },
  {
   "cell_type": "markdown",
   "metadata": {},
   "source": [
    "By analyzing this dataframe, we can gain insights into the competitive landscape within the movie industry and identify key players that Microsoft may encounter as competitors in the market"
   ]
  },
  {
   "cell_type": "code",
   "execution_count": 2,
   "metadata": {},
   "outputs": [
    {
     "data": {
      "text/html": [
       "<div>\n",
       "<style scoped>\n",
       "    .dataframe tbody tr th:only-of-type {\n",
       "        vertical-align: middle;\n",
       "    }\n",
       "\n",
       "    .dataframe tbody tr th {\n",
       "        vertical-align: top;\n",
       "    }\n",
       "\n",
       "    .dataframe thead th {\n",
       "        text-align: right;\n",
       "    }\n",
       "</style>\n",
       "<table border=\"1\" class=\"dataframe\">\n",
       "  <thead>\n",
       "    <tr style=\"text-align: right;\">\n",
       "      <th></th>\n",
       "      <th>title</th>\n",
       "      <th>studio</th>\n",
       "      <th>domestic_gross</th>\n",
       "      <th>foreign_gross</th>\n",
       "      <th>year</th>\n",
       "    </tr>\n",
       "  </thead>\n",
       "  <tbody>\n",
       "    <tr>\n",
       "      <th>0</th>\n",
       "      <td>Toy Story 3</td>\n",
       "      <td>BV</td>\n",
       "      <td>415000000.0</td>\n",
       "      <td>652000000</td>\n",
       "      <td>2010</td>\n",
       "    </tr>\n",
       "    <tr>\n",
       "      <th>1</th>\n",
       "      <td>Alice in Wonderland (2010)</td>\n",
       "      <td>BV</td>\n",
       "      <td>334200000.0</td>\n",
       "      <td>691300000</td>\n",
       "      <td>2010</td>\n",
       "    </tr>\n",
       "    <tr>\n",
       "      <th>2</th>\n",
       "      <td>Harry Potter and the Deathly Hallows Part 1</td>\n",
       "      <td>WB</td>\n",
       "      <td>296000000.0</td>\n",
       "      <td>664300000</td>\n",
       "      <td>2010</td>\n",
       "    </tr>\n",
       "    <tr>\n",
       "      <th>3</th>\n",
       "      <td>Inception</td>\n",
       "      <td>WB</td>\n",
       "      <td>292600000.0</td>\n",
       "      <td>535700000</td>\n",
       "      <td>2010</td>\n",
       "    </tr>\n",
       "    <tr>\n",
       "      <th>4</th>\n",
       "      <td>Shrek Forever After</td>\n",
       "      <td>P/DW</td>\n",
       "      <td>238700000.0</td>\n",
       "      <td>513900000</td>\n",
       "      <td>2010</td>\n",
       "    </tr>\n",
       "    <tr>\n",
       "      <th>...</th>\n",
       "      <td>...</td>\n",
       "      <td>...</td>\n",
       "      <td>...</td>\n",
       "      <td>...</td>\n",
       "      <td>...</td>\n",
       "    </tr>\n",
       "    <tr>\n",
       "      <th>3382</th>\n",
       "      <td>The Quake</td>\n",
       "      <td>Magn.</td>\n",
       "      <td>6200.0</td>\n",
       "      <td>NaN</td>\n",
       "      <td>2018</td>\n",
       "    </tr>\n",
       "    <tr>\n",
       "      <th>3383</th>\n",
       "      <td>Edward II (2018 re-release)</td>\n",
       "      <td>FM</td>\n",
       "      <td>4800.0</td>\n",
       "      <td>NaN</td>\n",
       "      <td>2018</td>\n",
       "    </tr>\n",
       "    <tr>\n",
       "      <th>3384</th>\n",
       "      <td>El Pacto</td>\n",
       "      <td>Sony</td>\n",
       "      <td>2500.0</td>\n",
       "      <td>NaN</td>\n",
       "      <td>2018</td>\n",
       "    </tr>\n",
       "    <tr>\n",
       "      <th>3385</th>\n",
       "      <td>The Swan</td>\n",
       "      <td>Synergetic</td>\n",
       "      <td>2400.0</td>\n",
       "      <td>NaN</td>\n",
       "      <td>2018</td>\n",
       "    </tr>\n",
       "    <tr>\n",
       "      <th>3386</th>\n",
       "      <td>An Actor Prepares</td>\n",
       "      <td>Grav.</td>\n",
       "      <td>1700.0</td>\n",
       "      <td>NaN</td>\n",
       "      <td>2018</td>\n",
       "    </tr>\n",
       "  </tbody>\n",
       "</table>\n",
       "<p>3387 rows × 5 columns</p>\n",
       "</div>"
      ],
      "text/plain": [
       "                                            title      studio  domestic_gross  \\\n",
       "0                                     Toy Story 3          BV     415000000.0   \n",
       "1                      Alice in Wonderland (2010)          BV     334200000.0   \n",
       "2     Harry Potter and the Deathly Hallows Part 1          WB     296000000.0   \n",
       "3                                       Inception          WB     292600000.0   \n",
       "4                             Shrek Forever After        P/DW     238700000.0   \n",
       "...                                           ...         ...             ...   \n",
       "3382                                    The Quake       Magn.          6200.0   \n",
       "3383                  Edward II (2018 re-release)          FM          4800.0   \n",
       "3384                                     El Pacto        Sony          2500.0   \n",
       "3385                                     The Swan  Synergetic          2400.0   \n",
       "3386                            An Actor Prepares       Grav.          1700.0   \n",
       "\n",
       "     foreign_gross  year  \n",
       "0        652000000  2010  \n",
       "1        691300000  2010  \n",
       "2        664300000  2010  \n",
       "3        535700000  2010  \n",
       "4        513900000  2010  \n",
       "...            ...   ...  \n",
       "3382           NaN  2018  \n",
       "3383           NaN  2018  \n",
       "3384           NaN  2018  \n",
       "3385           NaN  2018  \n",
       "3386           NaN  2018  \n",
       "\n",
       "[3387 rows x 5 columns]"
      ]
     },
     "execution_count": 2,
     "metadata": {},
     "output_type": "execute_result"
    }
   ],
   "source": [
    "df_studio=pd.read_csv(r\"zippedData\\bom.movie_gross.csv\")\n",
    "df_studio"
   ]
  },
  {
   "cell_type": "markdown",
   "metadata": {},
   "source": [
    "**b) Movie Attributes**(df_tmdm_movies)"
   ]
  },
  {
   "cell_type": "markdown",
   "metadata": {},
   "source": [
    "The df_tmdm_movies table contains details about each movie, including genre, original language, release date, popularity, and vote average. Microsoft can analyze this data to understand which genres are popular among audiences and which movies receive higher ratings, helping them decide what types of films to produce"
   ]
  },
  {
   "cell_type": "code",
   "execution_count": null,
   "metadata": {},
   "outputs": [],
   "source": [
    "df_tmdm_movies=pd.read_csv(r\"zippedData\\tmdb.movies.csv\")\n",
    "df_tmdm_movies"
   ]
  },
  {
   "cell_type": "markdown",
   "metadata": {},
   "source": [
    "   **C)Revenue Analysis**(df_movie_budgets)"
   ]
  },
  {
   "cell_type": "markdown",
   "metadata": {},
   "source": [
    "The df_movie_budgets table provides information about the production budget, domestic gross, and worldwide gross for various movies. By analyzing this data, Microsoft can identify trends in box office performance, such as which genres or types of movies tend to have higher gross earnings"
   ]
  },
  {
   "cell_type": "code",
   "execution_count": null,
   "metadata": {},
   "outputs": [],
   "source": [
    "df_movie_budgets=pd.read_csv(r\"zippedData\\tn.movie_budgets.csv\")\n",
    "df_movie_budgets"
   ]
  },
  {
   "cell_type": "markdown",
   "metadata": {},
   "source": [
    "**d) Critical Reception**(df_reviews)"
   ]
  },
  {
   "cell_type": "markdown",
   "metadata": {},
   "source": [
    "The df_reviews table includes reviews from critics, along with ratings and freshness indicators. Analyzing this data can provide insights into the critical reception of different movies, helping Microsoft understand the quality of films that resonate well with audiences."
   ]
  },
  {
   "cell_type": "code",
   "execution_count": null,
   "metadata": {},
   "outputs": [],
   "source": [
    "df_reviews=pd.read_csv(r\"zippedData\\rt.reviews.tsv\", sep='\\t',  encoding='latin1')\n",
    "df_reviews"
   ]
  },
  {
   "cell_type": "markdown",
   "metadata": {},
   "source": [
    "**GENRES**(df_imbd)"
   ]
  },
  {
   "cell_type": "code",
   "execution_count": null,
   "metadata": {},
   "outputs": [],
   "source": [
    "df_imbd = pd.read_csv(r\"zippedData\\rt.movie_info.tsv\", sep='\\t', encoding='latin1')\n",
    "df_imbd"
   ]
  },
  {
   "cell_type": "markdown",
   "metadata": {},
   "source": [
    "By combining insights from these tables, Microsoft can make informed decisions about the types of movies to produce for their new movie studio. They can prioritize genres with high box office performance, target audiences based on popular movie attributes, and aim to produce high-quality films that receive positive critical reception"
   ]
  },
  {
   "cell_type": "markdown",
   "metadata": {},
   "source": [
    "**3) DATA PREPARATION**"
   ]
  },
  {
   "cell_type": "markdown",
   "metadata": {},
   "source": [
    "Before analysis, we need to clean and preprocess the data. This involves handling missing values, removing duplicates, and formatting data for consistency. Additionally, we may need to merge datasets to create a comprehensive dataset for analysis. By ensuring data quality and integrity, we can perform accurate and meaningful analysis."
   ]
  },
  {
   "cell_type": "markdown",
   "metadata": {},
   "source": [
    "**a)df_studio**"
   ]
  },
  {
   "cell_type": "code",
   "execution_count": 7,
   "metadata": {},
   "outputs": [
    {
     "name": "stdout",
     "output_type": "stream",
     "text": [
      "Missing values:\n",
      " title                0\n",
      "studio               5\n",
      "domestic_gross      28\n",
      "foreign_gross     1350\n",
      "year                 0\n",
      "dtype: int64\n",
      "\n",
      "Number of duplicate rows: 0\n"
     ]
    }
   ],
   "source": [
    "df_studio=pd.read_csv(r\"zippedData\\bom.movie_gross.csv\")\n",
    "\n",
    "# Check for missing values\n",
    "missing_values =df_studio .isna().sum()\n",
    "print(\"Missing values:\\n\", missing_values)\n",
    "\n",
    "\n",
    "# Check for duplicates\n",
    "duplicate_rows = df_studio[df_studio.duplicated()]\n",
    "print(\"\\nNumber of duplicate rows:\", duplicate_rows.shape[0])\n"
   ]
  },
  {
   "cell_type": "code",
   "execution_count": 8,
   "metadata": {},
   "outputs": [
    {
     "name": "stdout",
     "output_type": "stream",
     "text": [
      "Missing values after filling:\n",
      " title             0\n",
      "studio            0\n",
      "domestic_gross    0\n",
      "foreign_gross     0\n",
      "year              0\n",
      "dtype: int64\n"
     ]
    }
   ],
   "source": [
    "# Convert 'foreign_gross' column to numeric, coerce errors to NaN\n",
    "df_studio['foreign_gross'] = pd.to_numeric(df_studio['foreign_gross'], errors='coerce')\n",
    "\n",
    "# Replace missing values in 'foreign_gross' with mean\n",
    "df_studio['foreign_gross'].fillna(df_studio['foreign_gross'].mean(), inplace=True)\n",
    "\n",
    "# Replace missing values in 'domestic_gross' with mean\n",
    "df_studio['domestic_gross'].fillna(df_studio['domestic_gross'].mean(), inplace=True)\n",
    "\n",
    "# Replace missing values in 'studio' with placeholder 'Unknown'\n",
    "df_studio['studio'].fillna('Unknown', inplace=True)\n",
    "\n",
    "# Verify that missing values are filled\n",
    "missing_values_after = df_studio.isna().sum()\n",
    "print(\"Missing values after filling:\\n\", missing_values_after)"
   ]
  },
  {
   "cell_type": "code",
   "execution_count": 9,
   "metadata": {},
   "outputs": [
    {
     "name": "stdout",
     "output_type": "stream",
     "text": [
      "Outliers in 'domestic_gross':\n",
      "                                             title studio  domestic_gross  \\\n",
      "0                                     Toy Story 3     BV     415000000.0   \n",
      "1                      Alice in Wonderland (2010)     BV     334200000.0   \n",
      "2     Harry Potter and the Deathly Hallows Part 1     WB     296000000.0   \n",
      "3                                       Inception     WB     292600000.0   \n",
      "4                             Shrek Forever After   P/DW     238700000.0   \n",
      "...                                           ...    ...             ...   \n",
      "3081               Jurassic World: Fallen Kingdom   Uni.     417700000.0   \n",
      "3082                                Incredibles 2     BV     608600000.0   \n",
      "3083                                      Aquaman     WB     335100000.0   \n",
      "3087                                   Deadpool 2    Fox     318500000.0   \n",
      "3096                 Dr. Seuss' The Grinch (2018)   Uni.     270600000.0   \n",
      "\n",
      "      foreign_gross  year  \n",
      "0       652000000.0  2010  \n",
      "1       691300000.0  2010  \n",
      "2       664300000.0  2010  \n",
      "3       535700000.0  2010  \n",
      "4       513900000.0  2010  \n",
      "...             ...   ...  \n",
      "3081    891800000.0  2018  \n",
      "3082    634200000.0  2018  \n",
      "3083    812700000.0  2018  \n",
      "3087    460500000.0  2018  \n",
      "3096    241000000.0  2018  \n",
      "\n",
      "[76 rows x 5 columns]\n",
      "\n",
      "Outliers in 'foreign_gross':\n",
      "                                             title studio  domestic_gross  \\\n",
      "0                                     Toy Story 3     BV     415000000.0   \n",
      "1                      Alice in Wonderland (2010)     BV     334200000.0   \n",
      "2     Harry Potter and the Deathly Hallows Part 1     WB     296000000.0   \n",
      "3                                       Inception     WB     292600000.0   \n",
      "4                             Shrek Forever After   P/DW     238700000.0   \n",
      "...                                           ...    ...             ...   \n",
      "3088  Fantastic Beasts: The Crimes of Grindelwald     WB     159600000.0   \n",
      "3089                         Ant-Man and the Wasp     BV     216600000.0   \n",
      "3090                             Ready Player One     WB     137700000.0   \n",
      "3091                            Operation Red Sea  WGUSA       1500000.0   \n",
      "3092                        Detective Chinatown 2     WB       2000000.0   \n",
      "\n",
      "      foreign_gross  year  \n",
      "0       652000000.0  2010  \n",
      "1       691300000.0  2010  \n",
      "2       664300000.0  2010  \n",
      "3       535700000.0  2010  \n",
      "4       513900000.0  2010  \n",
      "...             ...   ...  \n",
      "3088    494100000.0  2018  \n",
      "3089    406000000.0  2018  \n",
      "3090    445200000.0  2018  \n",
      "3091    577700000.0  2018  \n",
      "3092    542100000.0  2018  \n",
      "\n",
      "[95 rows x 5 columns]\n"
     ]
    }
   ],
   "source": [
    "\n",
    "import pandas as pd\n",
    "import numpy as np\n",
    "\n",
    "# Read the CSV file\n",
    "df_studio = pd.read_csv(r\"zippedData\\bom.movie_gross.csv\")\n",
    "\n",
    "# Convert 'foreign_gross' column to numeric\n",
    "df_studio['foreign_gross'] = pd.to_numeric(df_studio['foreign_gross'], errors='coerce')\n",
    "\n",
    "# Fill missing values in 'foreign_gross' with mean\n",
    "mean_foreign_gross = df_studio['foreign_gross'].mean()\n",
    "df_studio['foreign_gross'].fillna(mean_foreign_gross, inplace=True)\n",
    "\n",
    "# Calculate Z-score for 'domestic_gross' and 'foreign_gross'\n",
    "z_scores_domestic = (df_studio['domestic_gross'] - df_studio['domestic_gross'].mean()) / df_studio['domestic_gross'].std()\n",
    "z_scores_foreign = (df_studio['foreign_gross'] - df_studio['foreign_gross'].mean()) / df_studio['foreign_gross'].std()\n",
    "\n",
    "# Identify outliers based on Z-score\n",
    "outliers_domestic = df_studio[(z_scores_domestic > 3) | (z_scores_domestic < -3)]\n",
    "outliers_foreign = df_studio[(z_scores_foreign > 3) | (z_scores_foreign < -3)]\n",
    "\n",
    "# Display outliers\n",
    "print(\"Outliers in 'domestic_gross':\\n\", outliers_domestic)\n",
    "print(\"\\nOutliers in 'foreign_gross':\\n\", outliers_foreign)\n",
    "\n"
   ]
  },
  {
   "cell_type": "markdown",
   "metadata": {},
   "source": [
    "**b)df_tmdb_movies**"
   ]
  },
  {
   "cell_type": "markdown",
   "metadata": {},
   "source": [
    "Check for missing values: Identify any missing values in the datasets and decide how to handle them (e.g., imputation, removal)."
   ]
  },
  {
   "cell_type": "code",
   "execution_count": 10,
   "metadata": {},
   "outputs": [
    {
     "name": "stdout",
     "output_type": "stream",
     "text": [
      "Unnamed: 0           0\n",
      "genre_ids            0\n",
      "id                   0\n",
      "original_language    0\n",
      "original_title       0\n",
      "popularity           0\n",
      "release_date         0\n",
      "title                0\n",
      "vote_average         0\n",
      "vote_count           0\n",
      "dtype: int64\n"
     ]
    }
   ],
   "source": [
    "import pandas as pd\n",
    "\n",
    "# Check for missing values\n",
    "missing_values = df_tmdm_movies.isna().sum()\n",
    "print(missing_values)\n",
    "\n"
   ]
  },
  {
   "cell_type": "markdown",
   "metadata": {},
   "source": [
    "**Duplicates:** Check for and remove any duplicate rows if present."
   ]
  },
  {
   "cell_type": "code",
   "execution_count": 11,
   "metadata": {},
   "outputs": [
    {
     "name": "stdout",
     "output_type": "stream",
     "text": [
      "Number of duplicate rows: 0\n"
     ]
    }
   ],
   "source": [
    "\n",
    "\n",
    "# Read the CSV file into a DataFrame\n",
    "df_tmdb_movies = pd.read_csv(r\"zippedData\\tmdb.movies.csv\")\n",
    "\n",
    "# Check for duplicate rows\n",
    "duplicate_rows = df_tmdb_movies[df_tmdb_movies.duplicated()]\n",
    "\n",
    "# Print the number of duplicate rows\n",
    "print(\"Number of duplicate rows:\", duplicate_rows.shape[0])\n"
   ]
  },
  {
   "cell_type": "markdown",
   "metadata": {},
   "source": [
    "**c)df_movie_budgets**"
   ]
  },
  {
   "cell_type": "code",
   "execution_count": 12,
   "metadata": {},
   "outputs": [
    {
     "name": "stdout",
     "output_type": "stream",
     "text": [
      "Missing values:\n",
      " id                   0\n",
      "release_date         0\n",
      "movie                0\n",
      "production_budget    0\n",
      "domestic_gross       0\n",
      "worldwide_gross      0\n",
      "dtype: int64\n",
      "Number of duplicate rows: 0\n"
     ]
    }
   ],
   "source": [
    "df_movie_budgets=pd.read_csv(r\"zippedData\\tn.movie_budgets.csv\")\n",
    "#check for missing value\n",
    "missing_values = df_movie_budgets.isnull().sum()\n",
    "print(\"Missing values:\\n\", missing_values)\n",
    "#check for duplicates\n",
    "duplicate_rows = df_movie_budgets[df_movie_budgets.duplicated()]\n",
    "print(\"Number of duplicate rows:\", duplicate_rows.shape[0])\n"
   ]
  },
  {
   "cell_type": "code",
   "execution_count": null,
   "metadata": {},
   "outputs": [],
   "source": []
  },
  {
   "cell_type": "markdown",
   "metadata": {},
   "source": [
    "**d)df_reviews**"
   ]
  },
  {
   "cell_type": "code",
   "execution_count": null,
   "metadata": {},
   "outputs": [],
   "source": []
  },
  {
   "cell_type": "code",
   "execution_count": 13,
   "metadata": {},
   "outputs": [
    {
     "name": "stdout",
     "output_type": "stream",
     "text": [
      "Missing Values:\n",
      "id                0\n",
      "review         5563\n",
      "rating        13517\n",
      "fresh             0\n",
      "critic         2722\n",
      "top_critic        0\n",
      "publisher       309\n",
      "date              0\n",
      "dtype: int64\n",
      "\n",
      "Duplicate Rows: 9\n"
     ]
    }
   ],
   "source": [
    "df_reviews=pd.read_csv(r\"zippedData\\rt.reviews.tsv\", sep='\\t',  encoding='latin1')\n",
    "# Check for missing values\n",
    "missing_values = df_reviews.isnull().sum()\n",
    "print(\"Missing Values:\")\n",
    "print(missing_values)\n",
    "\n",
    "# Check for duplicates\n",
    "duplicates = df_reviews.duplicated().sum()\n",
    "print(\"\\nDuplicate Rows:\", duplicates)"
   ]
  },
  {
   "cell_type": "code",
   "execution_count": 14,
   "metadata": {},
   "outputs": [
    {
     "data": {
      "text/html": [
       "<div>\n",
       "<style scoped>\n",
       "    .dataframe tbody tr th:only-of-type {\n",
       "        vertical-align: middle;\n",
       "    }\n",
       "\n",
       "    .dataframe tbody tr th {\n",
       "        vertical-align: top;\n",
       "    }\n",
       "\n",
       "    .dataframe thead th {\n",
       "        text-align: right;\n",
       "    }\n",
       "</style>\n",
       "<table border=\"1\" class=\"dataframe\">\n",
       "  <thead>\n",
       "    <tr style=\"text-align: right;\">\n",
       "      <th></th>\n",
       "      <th>id</th>\n",
       "      <th>review</th>\n",
       "      <th>rating</th>\n",
       "      <th>fresh</th>\n",
       "      <th>critic</th>\n",
       "      <th>top_critic</th>\n",
       "      <th>date</th>\n",
       "    </tr>\n",
       "  </thead>\n",
       "  <tbody>\n",
       "    <tr>\n",
       "      <th>0</th>\n",
       "      <td>3</td>\n",
       "      <td>A distinctly gallows take on contemporary fina...</td>\n",
       "      <td>5.135733</td>\n",
       "      <td>fresh</td>\n",
       "      <td>PJ Nabarro</td>\n",
       "      <td>0</td>\n",
       "      <td>November 10, 2018</td>\n",
       "    </tr>\n",
       "    <tr>\n",
       "      <th>1</th>\n",
       "      <td>3</td>\n",
       "      <td>It's an allegory in search of a meaning that n...</td>\n",
       "      <td>5.135733</td>\n",
       "      <td>rotten</td>\n",
       "      <td>Annalee Newitz</td>\n",
       "      <td>0</td>\n",
       "      <td>May 23, 2018</td>\n",
       "    </tr>\n",
       "    <tr>\n",
       "      <th>2</th>\n",
       "      <td>3</td>\n",
       "      <td>... life lived in a bubble in financial dealin...</td>\n",
       "      <td>5.135733</td>\n",
       "      <td>fresh</td>\n",
       "      <td>Sean Axmaker</td>\n",
       "      <td>0</td>\n",
       "      <td>January 4, 2018</td>\n",
       "    </tr>\n",
       "    <tr>\n",
       "      <th>3</th>\n",
       "      <td>3</td>\n",
       "      <td>Continuing along a line introduced in last yea...</td>\n",
       "      <td>5.135733</td>\n",
       "      <td>fresh</td>\n",
       "      <td>Daniel Kasman</td>\n",
       "      <td>0</td>\n",
       "      <td>November 16, 2017</td>\n",
       "    </tr>\n",
       "    <tr>\n",
       "      <th>4</th>\n",
       "      <td>3</td>\n",
       "      <td>... a perverse twist on neorealism...</td>\n",
       "      <td>5.135733</td>\n",
       "      <td>fresh</td>\n",
       "      <td>Unknown Critic</td>\n",
       "      <td>0</td>\n",
       "      <td>October 12, 2017</td>\n",
       "    </tr>\n",
       "    <tr>\n",
       "      <th>...</th>\n",
       "      <td>...</td>\n",
       "      <td>...</td>\n",
       "      <td>...</td>\n",
       "      <td>...</td>\n",
       "      <td>...</td>\n",
       "      <td>...</td>\n",
       "      <td>...</td>\n",
       "    </tr>\n",
       "    <tr>\n",
       "      <th>54427</th>\n",
       "      <td>2000</td>\n",
       "      <td>The real charm of this trifle is the deadpan c...</td>\n",
       "      <td>5.135733</td>\n",
       "      <td>fresh</td>\n",
       "      <td>Laura Sinagra</td>\n",
       "      <td>1</td>\n",
       "      <td>September 24, 2002</td>\n",
       "    </tr>\n",
       "    <tr>\n",
       "      <th>54428</th>\n",
       "      <td>2000</td>\n",
       "      <td>No review available</td>\n",
       "      <td>5.135733</td>\n",
       "      <td>rotten</td>\n",
       "      <td>Michael Szymanski</td>\n",
       "      <td>0</td>\n",
       "      <td>September 21, 2005</td>\n",
       "    </tr>\n",
       "    <tr>\n",
       "      <th>54429</th>\n",
       "      <td>2000</td>\n",
       "      <td>No review available</td>\n",
       "      <td>5.135733</td>\n",
       "      <td>rotten</td>\n",
       "      <td>Emanuel Levy</td>\n",
       "      <td>0</td>\n",
       "      <td>July 17, 2005</td>\n",
       "    </tr>\n",
       "    <tr>\n",
       "      <th>54430</th>\n",
       "      <td>2000</td>\n",
       "      <td>No review available</td>\n",
       "      <td>5.135733</td>\n",
       "      <td>rotten</td>\n",
       "      <td>Christopher Null</td>\n",
       "      <td>0</td>\n",
       "      <td>September 7, 2003</td>\n",
       "    </tr>\n",
       "    <tr>\n",
       "      <th>54431</th>\n",
       "      <td>2000</td>\n",
       "      <td>No review available</td>\n",
       "      <td>5.135733</td>\n",
       "      <td>fresh</td>\n",
       "      <td>Nicolas Lacroix</td>\n",
       "      <td>0</td>\n",
       "      <td>November 12, 2002</td>\n",
       "    </tr>\n",
       "  </tbody>\n",
       "</table>\n",
       "<p>54432 rows × 7 columns</p>\n",
       "</div>"
      ],
      "text/plain": [
       "         id                                             review    rating  \\\n",
       "0         3  A distinctly gallows take on contemporary fina...  5.135733   \n",
       "1         3  It's an allegory in search of a meaning that n...  5.135733   \n",
       "2         3  ... life lived in a bubble in financial dealin...  5.135733   \n",
       "3         3  Continuing along a line introduced in last yea...  5.135733   \n",
       "4         3             ... a perverse twist on neorealism...   5.135733   \n",
       "...     ...                                                ...       ...   \n",
       "54427  2000  The real charm of this trifle is the deadpan c...  5.135733   \n",
       "54428  2000                                No review available  5.135733   \n",
       "54429  2000                                No review available  5.135733   \n",
       "54430  2000                                No review available  5.135733   \n",
       "54431  2000                                No review available  5.135733   \n",
       "\n",
       "        fresh             critic  top_critic                date  \n",
       "0       fresh         PJ Nabarro           0   November 10, 2018  \n",
       "1      rotten     Annalee Newitz           0        May 23, 2018  \n",
       "2       fresh       Sean Axmaker           0     January 4, 2018  \n",
       "3       fresh      Daniel Kasman           0   November 16, 2017  \n",
       "4       fresh     Unknown Critic           0    October 12, 2017  \n",
       "...       ...                ...         ...                 ...  \n",
       "54427   fresh      Laura Sinagra           1  September 24, 2002  \n",
       "54428  rotten  Michael Szymanski           0  September 21, 2005  \n",
       "54429  rotten       Emanuel Levy           0       July 17, 2005  \n",
       "54430  rotten   Christopher Null           0   September 7, 2003  \n",
       "54431   fresh    Nicolas Lacroix           0   November 12, 2002  \n",
       "\n",
       "[54432 rows x 7 columns]"
      ]
     },
     "execution_count": 14,
     "metadata": {},
     "output_type": "execute_result"
    }
   ],
   "source": [
    "import pandas as pd\n",
    "\n",
    "# Load the DataFrame\n",
    "df_reviews = pd.read_csv(r\"zippedData\\rt.reviews.tsv\", sep='\\t', encoding='latin1')\n",
    "\n",
    "# Check if 'publisher' column exists before dropping\n",
    "if 'publisher' in df_reviews.columns:\n",
    "    df_reviews.drop(columns=['publisher'], inplace=True)\n",
    "\n",
    "# Fill missing rating with mean\n",
    "df_reviews['rating'] = pd.to_numeric(df_reviews['rating'], errors='coerce')\n",
    "mean_rating = df_reviews['rating'].mean()\n",
    "df_reviews['rating'].fillna(mean_rating, inplace=True)\n",
    "\n",
    "# Replace missing critic values with a placeholder\n",
    "df_reviews['critic'].fillna('Unknown Critic', inplace=True)\n",
    "\n",
    "# Replace missing reviews with a placeholder\n",
    "df_reviews['review'].fillna('No review available', inplace=True)\n",
    "\n",
    "# Check the cleaned DataFrame\n",
    "df_reviews\n"
   ]
  },
  {
   "cell_type": "markdown",
   "metadata": {},
   "source": [
    "**df_imbd**"
   ]
  },
  {
   "cell_type": "code",
   "execution_count": 15,
   "metadata": {},
   "outputs": [
    {
     "name": "stdout",
     "output_type": "stream",
     "text": [
      "Missing Values:\n",
      " id                 0\n",
      "synopsis          62\n",
      "rating             3\n",
      "genre              8\n",
      "director         199\n",
      "writer           449\n",
      "theater_date     359\n",
      "dvd_date         359\n",
      "currency        1220\n",
      "box_office      1220\n",
      "runtime           30\n",
      "studio          1066\n",
      "dtype: int64\n",
      "\n",
      "Number of Duplicates: 0\n"
     ]
    }
   ],
   "source": [
    "import pandas as pd\n",
    "\n",
    "# Read the data\n",
    "df_imbd = pd.read_csv(r\"zippedData\\rt.movie_info.tsv\", sep='\\t', encoding='latin1')\n",
    "\n",
    "# Check for missing values\n",
    "missing_values = df_imbd.isnull().sum()\n",
    "print(\"Missing Values:\\n\", missing_values)\n",
    "\n",
    "# Check for duplicates\n",
    "duplicates = df_imbd.duplicated().sum()\n",
    "print(\"\\nNumber of Duplicates:\", duplicates)"
   ]
  },
  {
   "cell_type": "code",
   "execution_count": 16,
   "metadata": {},
   "outputs": [
    {
     "name": "stdout",
     "output_type": "stream",
     "text": [
      "id                0\n",
      "synopsis         62\n",
      "rating            3\n",
      "genre             8\n",
      "director        199\n",
      "writer          449\n",
      "theater_date    359\n",
      "dvd_date        359\n",
      "currency          0\n",
      "box_office        0\n",
      "runtime          30\n",
      "studio            0\n",
      "dtype: int64\n"
     ]
    },
    {
     "data": {
      "text/html": [
       "<div>\n",
       "<style scoped>\n",
       "    .dataframe tbody tr th:only-of-type {\n",
       "        vertical-align: middle;\n",
       "    }\n",
       "\n",
       "    .dataframe tbody tr th {\n",
       "        vertical-align: top;\n",
       "    }\n",
       "\n",
       "    .dataframe thead th {\n",
       "        text-align: right;\n",
       "    }\n",
       "</style>\n",
       "<table border=\"1\" class=\"dataframe\">\n",
       "  <thead>\n",
       "    <tr style=\"text-align: right;\">\n",
       "      <th></th>\n",
       "      <th>id</th>\n",
       "      <th>synopsis</th>\n",
       "      <th>rating</th>\n",
       "      <th>genre</th>\n",
       "      <th>director</th>\n",
       "      <th>writer</th>\n",
       "      <th>theater_date</th>\n",
       "      <th>dvd_date</th>\n",
       "      <th>currency</th>\n",
       "      <th>box_office</th>\n",
       "      <th>runtime</th>\n",
       "      <th>studio</th>\n",
       "    </tr>\n",
       "  </thead>\n",
       "  <tbody>\n",
       "    <tr>\n",
       "      <th>0</th>\n",
       "      <td>1</td>\n",
       "      <td>This gritty, fast-paced, and innovative police...</td>\n",
       "      <td>R</td>\n",
       "      <td>Action and Adventure|Classics|Drama</td>\n",
       "      <td>William Friedkin</td>\n",
       "      <td>Ernest Tidyman</td>\n",
       "      <td>Oct 9, 1971</td>\n",
       "      <td>Sep 25, 2001</td>\n",
       "      <td>$</td>\n",
       "      <td>14141054.5</td>\n",
       "      <td>104 minutes</td>\n",
       "      <td>Universal Pictures</td>\n",
       "    </tr>\n",
       "    <tr>\n",
       "      <th>1</th>\n",
       "      <td>3</td>\n",
       "      <td>New York City, not-too-distant-future: Eric Pa...</td>\n",
       "      <td>R</td>\n",
       "      <td>Drama|Science Fiction and Fantasy</td>\n",
       "      <td>David Cronenberg</td>\n",
       "      <td>David Cronenberg|Don DeLillo</td>\n",
       "      <td>Aug 17, 2012</td>\n",
       "      <td>Jan 1, 2013</td>\n",
       "      <td>$</td>\n",
       "      <td>600000.0</td>\n",
       "      <td>108 minutes</td>\n",
       "      <td>Entertainment One</td>\n",
       "    </tr>\n",
       "    <tr>\n",
       "      <th>2</th>\n",
       "      <td>5</td>\n",
       "      <td>Illeana Douglas delivers a superb performance ...</td>\n",
       "      <td>R</td>\n",
       "      <td>Drama|Musical and Performing Arts</td>\n",
       "      <td>Allison Anders</td>\n",
       "      <td>Allison Anders</td>\n",
       "      <td>Sep 13, 1996</td>\n",
       "      <td>Apr 18, 2000</td>\n",
       "      <td>$</td>\n",
       "      <td>14141054.5</td>\n",
       "      <td>116 minutes</td>\n",
       "      <td>Universal Pictures</td>\n",
       "    </tr>\n",
       "    <tr>\n",
       "      <th>3</th>\n",
       "      <td>6</td>\n",
       "      <td>Michael Douglas runs afoul of a treacherous su...</td>\n",
       "      <td>R</td>\n",
       "      <td>Drama|Mystery and Suspense</td>\n",
       "      <td>Barry Levinson</td>\n",
       "      <td>Paul Attanasio|Michael Crichton</td>\n",
       "      <td>Dec 9, 1994</td>\n",
       "      <td>Aug 27, 1997</td>\n",
       "      <td>$</td>\n",
       "      <td>14141054.5</td>\n",
       "      <td>128 minutes</td>\n",
       "      <td>Universal Pictures</td>\n",
       "    </tr>\n",
       "    <tr>\n",
       "      <th>4</th>\n",
       "      <td>7</td>\n",
       "      <td>NaN</td>\n",
       "      <td>NR</td>\n",
       "      <td>Drama|Romance</td>\n",
       "      <td>Rodney Bennett</td>\n",
       "      <td>Giles Cooper</td>\n",
       "      <td>NaN</td>\n",
       "      <td>NaN</td>\n",
       "      <td>$</td>\n",
       "      <td>14141054.5</td>\n",
       "      <td>200 minutes</td>\n",
       "      <td>Universal Pictures</td>\n",
       "    </tr>\n",
       "  </tbody>\n",
       "</table>\n",
       "</div>"
      ],
      "text/plain": [
       "   id                                           synopsis rating  \\\n",
       "0   1  This gritty, fast-paced, and innovative police...      R   \n",
       "1   3  New York City, not-too-distant-future: Eric Pa...      R   \n",
       "2   5  Illeana Douglas delivers a superb performance ...      R   \n",
       "3   6  Michael Douglas runs afoul of a treacherous su...      R   \n",
       "4   7                                                NaN     NR   \n",
       "\n",
       "                                 genre          director  \\\n",
       "0  Action and Adventure|Classics|Drama  William Friedkin   \n",
       "1    Drama|Science Fiction and Fantasy  David Cronenberg   \n",
       "2    Drama|Musical and Performing Arts    Allison Anders   \n",
       "3           Drama|Mystery and Suspense    Barry Levinson   \n",
       "4                        Drama|Romance    Rodney Bennett   \n",
       "\n",
       "                            writer  theater_date      dvd_date currency  \\\n",
       "0                   Ernest Tidyman   Oct 9, 1971  Sep 25, 2001        $   \n",
       "1     David Cronenberg|Don DeLillo  Aug 17, 2012   Jan 1, 2013        $   \n",
       "2                   Allison Anders  Sep 13, 1996  Apr 18, 2000        $   \n",
       "3  Paul Attanasio|Michael Crichton   Dec 9, 1994  Aug 27, 1997        $   \n",
       "4                     Giles Cooper           NaN           NaN        $   \n",
       "\n",
       "   box_office      runtime              studio  \n",
       "0  14141054.5  104 minutes  Universal Pictures  \n",
       "1    600000.0  108 minutes   Entertainment One  \n",
       "2  14141054.5  116 minutes  Universal Pictures  \n",
       "3  14141054.5  128 minutes  Universal Pictures  \n",
       "4  14141054.5  200 minutes  Universal Pictures  "
      ]
     },
     "execution_count": 16,
     "metadata": {},
     "output_type": "execute_result"
    }
   ],
   "source": [
    "import pandas as pd\n",
    "\n",
    "# Read the data\n",
    "df_imbd = pd.read_csv(r\"zippedData\\rt.movie_info.tsv\", sep='\\t', encoding='latin1')\n",
    "\n",
    "# Impute missing values in 'currency' and 'studio' columns with the mode\n",
    "df_imbd['currency'].fillna(df_imbd['currency'].mode()[0], inplace=True)\n",
    "df_imbd['studio'].fillna(df_imbd['studio'].mode()[0], inplace=True)\n",
    "\n",
    "# Clean 'box_office' column: remove commas and convert to numeric\n",
    "df_imbd['box_office'] = df_imbd['box_office'].str.replace(',', '').astype(float)\n",
    "\n",
    "# Impute missing values in 'box_office' column with the median\n",
    "df_imbd['box_office'] = df_imbd['box_office'].fillna(df_imbd['box_office'].median())\n",
    "\n",
    "# Verify the changes\n",
    "print(df_imbd.isnull().sum())\n",
    "df_imbd.head()"
   ]
  },
  {
   "cell_type": "markdown",
   "metadata": {},
   "source": []
  },
  {
   "cell_type": "markdown",
   "metadata": {},
   "source": [
    "\n",
    "**3)DATA ANALYSIS AND MODELLING**"
   ]
  },
  {
   "cell_type": "markdown",
   "metadata": {},
   "source": [
    "**Now that the data is nice and neat, we can model it to answer our questions.**"
   ]
  },
  {
   "cell_type": "markdown",
   "metadata": {},
   "source": [
    "**Question 1: Who is my competition?**"
   ]
  },
  {
   "cell_type": "markdown",
   "metadata": {},
   "source": [
    "Who is my competition?:\n",
    "\n",
    "~Top 10 Studios producing the most films.\n",
    "\n",
    "~Top 10 Studios making the highest gross income in average.\n"
   ]
  },
  {
   "cell_type": "code",
   "execution_count": 17,
   "metadata": {},
   "outputs": [
    {
     "name": "stdout",
     "output_type": "stream",
     "text": [
      "no stored variable or alias studios_df\n"
     ]
    }
   ],
   "source": [
    "import numpy as np\n",
    "import pandas as pd\n",
    "import matplotlib.pyplot as plt\n",
    "import seaborn as sns\n",
    "%store -r studios_df"
   ]
  },
  {
   "cell_type": "code",
   "execution_count": 18,
   "metadata": {},
   "outputs": [
    {
     "name": "stdout",
     "output_type": "stream",
     "text": [
      "<class 'pandas.core.frame.DataFrame'>\n",
      "RangeIndex: 3387 entries, 0 to 3386\n",
      "Data columns (total 5 columns):\n",
      " #   Column          Non-Null Count  Dtype  \n",
      "---  ------          --------------  -----  \n",
      " 0   title           3387 non-null   object \n",
      " 1   studio          3382 non-null   object \n",
      " 2   domestic_gross  3359 non-null   float64\n",
      " 3   foreign_gross   3387 non-null   float64\n",
      " 4   year            3387 non-null   int64  \n",
      "dtypes: float64(2), int64(1), object(2)\n",
      "memory usage: 132.4+ KB\n"
     ]
    }
   ],
   "source": [
    "df_studio.info()"
   ]
  },
  {
   "cell_type": "code",
   "execution_count": 19,
   "metadata": {},
   "outputs": [
    {
     "data": {
      "image/png": "[encoded data removed]",
      "text/plain": [
       "<Figure size 864x576 with 1 Axes>"
      ]
     },
     "metadata": {
      "needs_background": "light"
     },
     "output_type": "display_data"
    }
   ],
   "source": [
    "import matplotlib.pyplot as plt\n",
    "import seaborn as sns\n",
    "\n",
    "# Get the count of movies produced by each studio\n",
    "studio_count = df_studio['studio'].value_counts()\n",
    "studio_count = studio_count[:10]\n",
    "\n",
    "# Plot the top 10 studios by number of movies produced with enhanced aesthetics\n",
    "plt.figure(figsize=(12, 8))  # Adjust figure size for better visibility\n",
    "sns.barplot(x=studio_count.values, y=studio_count.index, palette='magma')  # Use a color palette for better aesthetics\n",
    "plt.title('Top 10 Studios by Number of Movies Produced', fontsize=24)\n",
    "plt.xlabel('Total Movies Produced', fontsize=16)\n",
    "plt.ylabel('Studio', fontsize=16)\n",
    "plt.xticks(fontsize=12)  # Adjust font size for x-axis labels\n",
    "plt.yticks(fontsize=12)  # Adjust font size for y-axis labels\n",
    "plt.grid(axis='x', linestyle='--', alpha=0.7)  # Add grid lines for better readability\n",
    "plt.tight_layout()  # Adjust layout to prevent clipping of labels\n",
    "plt.show()\n"
   ]
  },
  {
   "cell_type": "markdown",
   "metadata": {},
   "source": [
    "All of these are American studio producers\n"
   ]
  },
  {
   "cell_type": "markdown",
   "metadata": {},
   "source": [
    "**TOP 10 STUDIOS MAKING THE HIGHEST GROSS INCOME IN AVERAGE**"
   ]
  },
  {
   "cell_type": "code",
   "execution_count": 20,
   "metadata": {},
   "outputs": [
    {
     "name": "stdout",
     "output_type": "stream",
     "text": [
      "<class 'pandas.core.frame.DataFrame'>\n",
      "RangeIndex: 3387 entries, 0 to 3386\n",
      "Data columns (total 5 columns):\n",
      " #   Column          Non-Null Count  Dtype  \n",
      "---  ------          --------------  -----  \n",
      " 0   title           3387 non-null   object \n",
      " 1   studio          3382 non-null   object \n",
      " 2   domestic_gross  3359 non-null   float64\n",
      " 3   foreign_gross   3387 non-null   float64\n",
      " 4   year            3387 non-null   int64  \n",
      "dtypes: float64(2), int64(1), object(2)\n",
      "memory usage: 132.4+ KB\n"
     ]
    },
    {
     "data": {
      "text/plain": [
       "dtype('float64')"
      ]
     },
     "execution_count": 20,
     "metadata": {},
     "output_type": "execute_result"
    }
   ],
   "source": [
    "df_studio.info()\n",
    "# Convert 'foreign_gross' column to numeric type, handling non-numeric values\n",
    "df_studio['foreign_gross'] = pd.to_numeric(df_studio['foreign_gross'], errors='coerce')\n",
    "\n",
    "# Check the data type after conversion\n",
    "df_studio['foreign_gross'].dtype\n"
   ]
  },
  {
   "cell_type": "code",
   "execution_count": 21,
   "metadata": {},
   "outputs": [
    {
     "data": {
      "image/png": "[encoded data removed]",
      "text/plain": [
       "<Figure size 864x576 with 1 Axes>"
      ]
     },
     "metadata": {
      "needs_background": "light"
     },
     "output_type": "display_data"
    }
   ],
   "source": [
    "import pandas as pd\n",
    "import matplotlib.pyplot as plt\n",
    "import seaborn as sns\n",
    "\n",
    "# Read the data\n",
    "df_studio = pd.read_csv(r\"zippedData\\bom.movie_gross.csv\")\n",
    "\n",
    "# Clean 'domestic_gross' column\n",
    "df_studio['domestic_gross'] = df_studio['domestic_gross'].fillna('$0').astype(str).str.replace(r'[\\$,]', '').astype(float)\n",
    "\n",
    "# Clean 'foreign_gross' column\n",
    "df_studio['foreign_gross'] = df_studio['foreign_gross'].fillna('$0').astype(str).str.replace(r'[\\$,]', '').astype(float)\n",
    "\n",
    "# Create a new column 'total_gross' as the sum of 'domestic_gross' and 'foreign_gross'\n",
    "df_studio['total_gross'] = df_studio['domestic_gross'] + df_studio['foreign_gross']\n",
    "\n",
    "# Group by studio and calculate the mean of total_gross\n",
    "studios_grp = df_studio.groupby(['studio'])\n",
    "mean_gross = studios_grp['total_gross'].mean()\n",
    "mean_gross.sort_values(ascending=False, inplace=True)\n",
    "mean_gross = mean_gross[:10]\n",
    "\n",
    "# Plot the top 10 studios by mean gross income with enhanced aesthetics\n",
    "plt.figure(figsize=(12, 8))  # Adjust figure size for better visibility\n",
    "sns.barplot(x=mean_gross.values, y=mean_gross.index, palette='viridis')  # Use a color palette for better aesthetics\n",
    "plt.title('Top 10 Studios by Average Gross Income', fontsize=24)\n",
    "plt.xlabel('Mean Gross Income (in 100M)', fontsize=16)\n",
    "plt.ylabel('Studio', fontsize=16)\n",
    "plt.xticks(fontsize=12)  # Adjust font size for x-axis labels\n",
    "plt.yticks(fontsize=12)  # Adjust font size for y-axis labels\n",
    "plt.grid(axis='x', linestyle='--', alpha=0.7)  # Add grid lines for better readability\n",
    "plt.show()\n"
   ]
  },
  {
   "cell_type": "markdown",
   "metadata": {},
   "source": [
    "**Which movies drove this studios to the Head of the table?** lets find out."
   ]
  },
  {
   "cell_type": "code",
   "execution_count": 22,
   "metadata": {},
   "outputs": [
    {
     "data": {
      "text/html": [
       "<div>\n",
       "<style scoped>\n",
       "    .dataframe tbody tr th:only-of-type {\n",
       "        vertical-align: middle;\n",
       "    }\n",
       "\n",
       "    .dataframe tbody tr th {\n",
       "        vertical-align: top;\n",
       "    }\n",
       "\n",
       "    .dataframe thead th {\n",
       "        text-align: right;\n",
       "    }\n",
       "</style>\n",
       "<table border=\"1\" class=\"dataframe\">\n",
       "  <thead>\n",
       "    <tr style=\"text-align: right;\">\n",
       "      <th></th>\n",
       "      <th>title</th>\n",
       "      <th>studio</th>\n",
       "      <th>domestic_gross</th>\n",
       "      <th>foreign_gross</th>\n",
       "      <th>year</th>\n",
       "    </tr>\n",
       "  </thead>\n",
       "  <tbody>\n",
       "    <tr>\n",
       "      <th>4</th>\n",
       "      <td>Shrek Forever After</td>\n",
       "      <td>P/DW</td>\n",
       "      <td>238700000.0</td>\n",
       "      <td>513900000</td>\n",
       "      <td>2010</td>\n",
       "    </tr>\n",
       "    <tr>\n",
       "      <th>9</th>\n",
       "      <td>How to Train Your Dragon</td>\n",
       "      <td>P/DW</td>\n",
       "      <td>217600000.0</td>\n",
       "      <td>277300000</td>\n",
       "      <td>2010</td>\n",
       "    </tr>\n",
       "    <tr>\n",
       "      <th>17</th>\n",
       "      <td>Megamind</td>\n",
       "      <td>P/DW</td>\n",
       "      <td>148400000.0</td>\n",
       "      <td>173500000</td>\n",
       "      <td>2010</td>\n",
       "    </tr>\n",
       "    <tr>\n",
       "      <th>71</th>\n",
       "      <td>Dinner for Schmucks</td>\n",
       "      <td>P/DW</td>\n",
       "      <td>73000000.0</td>\n",
       "      <td>13800000</td>\n",
       "      <td>2010</td>\n",
       "    </tr>\n",
       "    <tr>\n",
       "      <th>329</th>\n",
       "      <td>Transformers: Dark of the Moon</td>\n",
       "      <td>P/DW</td>\n",
       "      <td>352400000.0</td>\n",
       "      <td>771400000</td>\n",
       "      <td>2011</td>\n",
       "    </tr>\n",
       "    <tr>\n",
       "      <th>333</th>\n",
       "      <td>Kung Fu Panda 2</td>\n",
       "      <td>P/DW</td>\n",
       "      <td>165200000.0</td>\n",
       "      <td>500400000</td>\n",
       "      <td>2011</td>\n",
       "    </tr>\n",
       "    <tr>\n",
       "      <th>338</th>\n",
       "      <td>Puss in Boots</td>\n",
       "      <td>P/DW</td>\n",
       "      <td>149300000.0</td>\n",
       "      <td>405700000</td>\n",
       "      <td>2011</td>\n",
       "    </tr>\n",
       "    <tr>\n",
       "      <th>734</th>\n",
       "      <td>Madagascar 3: Europe's Most Wanted</td>\n",
       "      <td>P/DW</td>\n",
       "      <td>216400000.0</td>\n",
       "      <td>530500000</td>\n",
       "      <td>2012</td>\n",
       "    </tr>\n",
       "    <tr>\n",
       "      <th>752</th>\n",
       "      <td>Rise of the Guardians</td>\n",
       "      <td>P/DW</td>\n",
       "      <td>103400000.0</td>\n",
       "      <td>203500000</td>\n",
       "      <td>2012</td>\n",
       "    </tr>\n",
       "    <tr>\n",
       "      <th>865</th>\n",
       "      <td>A Thousand Words</td>\n",
       "      <td>P/DW</td>\n",
       "      <td>18500000.0</td>\n",
       "      <td>3600000</td>\n",
       "      <td>2012</td>\n",
       "    </tr>\n",
       "    <tr>\n",
       "      <th>2764</th>\n",
       "      <td>Wolf Warrior 2</td>\n",
       "      <td>HC</td>\n",
       "      <td>2700000.0</td>\n",
       "      <td>867600000</td>\n",
       "      <td>2017</td>\n",
       "    </tr>\n",
       "    <tr>\n",
       "      <th>2796</th>\n",
       "      <td>Baahubali 2: The Conclusion</td>\n",
       "      <td>GrtIndia</td>\n",
       "      <td>20200000.0</td>\n",
       "      <td>234000000</td>\n",
       "      <td>2017</td>\n",
       "    </tr>\n",
       "  </tbody>\n",
       "</table>\n",
       "</div>"
      ],
      "text/plain": [
       "                                   title    studio  domestic_gross  \\\n",
       "4                    Shrek Forever After      P/DW     238700000.0   \n",
       "9               How to Train Your Dragon      P/DW     217600000.0   \n",
       "17                              Megamind      P/DW     148400000.0   \n",
       "71                   Dinner for Schmucks      P/DW      73000000.0   \n",
       "329       Transformers: Dark of the Moon      P/DW     352400000.0   \n",
       "333                      Kung Fu Panda 2      P/DW     165200000.0   \n",
       "338                        Puss in Boots      P/DW     149300000.0   \n",
       "734   Madagascar 3: Europe's Most Wanted      P/DW     216400000.0   \n",
       "752                Rise of the Guardians      P/DW     103400000.0   \n",
       "865                     A Thousand Words      P/DW      18500000.0   \n",
       "2764                      Wolf Warrior 2        HC       2700000.0   \n",
       "2796         Baahubali 2: The Conclusion  GrtIndia      20200000.0   \n",
       "\n",
       "     foreign_gross  year  \n",
       "4        513900000  2010  \n",
       "9        277300000  2010  \n",
       "17       173500000  2010  \n",
       "71        13800000  2010  \n",
       "329      771400000  2011  \n",
       "333      500400000  2011  \n",
       "338      405700000  2011  \n",
       "734      530500000  2012  \n",
       "752      203500000  2012  \n",
       "865        3600000  2012  \n",
       "2764     867600000  2017  \n",
       "2796     234000000  2017  "
      ]
     },
     "execution_count": 22,
     "metadata": {},
     "output_type": "execute_result"
    }
   ],
   "source": [
    "\n",
    "import pandas as pd\n",
    "\n",
    "# Read the CSV file\n",
    "df_studio = pd.read_csv(r\"zippedData\\bom.movie_gross.csv\")\n",
    "\n",
    "# Filter the DataFrame to select rows where the 'studio' column matches the specified studios\n",
    "filtered_df = df_studio.loc[df_studio['studio'].isin(['HC', 'P/DW', 'GrtIndia'])]\n",
    "\n",
    "# Display the filtered DataFrame\n",
    "filtered_df\n"
   ]
  },
  {
   "cell_type": "markdown",
   "metadata": {},
   "source": [
    "**HC (Huaxia Film Distribution Co., Ltd)**:\n",
    "\n",
    "Despite having only one movie in the provided dataset, 'Wolf Warrior 2' made a significant impact on their overall performance\n",
    "\n",
    "**GrtIndia (Great India Films)**:\n",
    "\n",
    "Released 'Baahubali 2: The Conclusion' in 2017, which performed exceptionally well, especially in the foreign market.\n",
    "Although they also have only one movie listed in the dataset, 'Baahubali 2: The Conclusion' made a substantial contribution to their total gross income."
   ]
  },
  {
   "cell_type": "markdown",
   "metadata": {},
   "source": [
    "**INFERENCES**\n",
    "\n",
    "~The success of these studios can be attributed to their ability to produce high-quality films across different genres, effectively market them to a global audience, and capitalize on blockbuster hits that resonate with viewers worldwide.\n",
    "\n",
    "~The quantity of films produced doesn't necessarily correlate with increased revenue.\n",
    "\n",
    "~The dominance of the movie industry is predominantly centered in the USA."
   ]
  },
  {
   "cell_type": "markdown",
   "metadata": {},
   "source": [
    "**RECOMMANDATION**\n",
    "\n",
    ".Focus on Quality Over Quantity: Rather than solely focusing on the quantity of films produced, studios should prioritize producing high-quality films across different genres.\n",
    "\n",
    ".Global Market Expansion:Microsoft should develop targeted strategies to penetrate emerging markets, such as China, India, and Latin America, where there is a growing appetite for diverse cinematic content.\n",
    "\n",
    ".Adaptability and Innovation: In an ever-evolving entertainment landscape, Microsoft must remain agile, adaptable, and innovative to stay ahead of market trends and audience preference.\n",
    "\n",
    ".Strategic Marketing and Distribution: Studios should invest in targeted marketing campaigns that leverage digital channels, social media platforms, and data analytics to identify and engage with specific audience segments."
   ]
  },
  {
   "cell_type": "markdown",
   "metadata": {},
   "source": [
    "**Question 2: What do people like**\n",
    "    \n",
    "    .Top 10 most produced Genres\n",
    "    \n",
    "    "
   ]
  },
  {
   "cell_type": "code",
   "execution_count": 23,
   "metadata": {
    "scrolled": true
   },
   "outputs": [
    {
     "data": {
      "image/png": "[encoded data removed]",
      "text/plain": [
       "<Figure size 864x432 with 1 Axes>"
      ]
     },
     "metadata": {},
     "output_type": "display_data"
    }
   ],
   "source": [
    "# Merge df_movie_budgets with df_imbd_dropped on the 'id' column\n",
    "merged_df = df_movie_budgets.merge(df_imbd, on='id', how='left')\n",
    "merged_df\n",
    "# Now merged_df contains the combined information from both dataframes based on movie id\n",
    "\n",
    "import pandas as pd\n",
    "import matplotlib.pyplot as plt\n",
    "import seaborn as sns\n",
    "\n",
    "# Assuming merged_df is your DataFrame containing the data\n",
    "genre_counts = merged_df['genre'].str.split('|').explode().value_counts().head(10)\n",
    "\n",
    "# Setting seaborn style\n",
    "sns.set_style(\"whitegrid\")\n",
    "\n",
    "# Plotting the top 10 most produced genres\n",
    "plt.figure(figsize=(12, 6))\n",
    "bar_plot = sns.barplot(x=genre_counts.index, y=genre_counts.values, palette=\"Blues_d\")\n",
    "plt.title('Top 10 Most Produced Genres')\n",
    "plt.xlabel('Genre')\n",
    "plt.ylabel('Count')\n",
    "\n",
    "# Adding annotations\n",
    "for index, value in enumerate(genre_counts):\n",
    "    bar_plot.text(index, value + 10, str(value), ha='center', color='black', fontweight='bold')\n",
    "\n",
    "plt.xticks(rotation=45)\n",
    "plt.tight_layout()\n",
    "plt.show()\n"
   ]
  },
  {
   "cell_type": "code",
   "execution_count": null,
   "metadata": {},
   "outputs": [],
   "source": []
  },
  {
   "cell_type": "markdown",
   "metadata": {},
   "source": [
    "**INFERENCE**\n",
    "\n",
    " Drama, Comedy, and Action & Adventure dominate the production landscape, while other genres contribute to the rich diversity of cinematic experiences."
   ]
  },
  {
   "cell_type": "markdown",
   "metadata": {},
   "source": [
    "**RECOMMENDATION**\n",
    "\n",
    "By embracing genre diversity and implementing targeted strategies to engage with diverse audience segments, Microsoft can enhance competitiveness, foster audience loyalty, and drive growth in the evolving landscape of the movie industry."
   ]
  },
  {
   "cell_type": "markdown",
   "metadata": {},
   "source": [
    "**Question 3: What does number represent**\n",
    "\n",
    "    .How does the profitability (ROI) of movies vary across different production budget ranges?\n",
    "    .How has the total revenue of the movie industry changed over the years?\n",
    "    .Do budget allocations correlate with revenue generation?\n",
    "    .Is there's a correlation between movie ratings and revenue.\n",
    "    .Are there any seasonal trends in movie revenue (e.g., higher revenue during the summer or holiday seasons)?\n",
    "    "
   ]
  },
  {
   "cell_type": "markdown",
   "metadata": {},
   "source": [
    " **ROI  and budget analysis**"
   ]
  },
  {
   "cell_type": "code",
   "execution_count": 24,
   "metadata": {},
   "outputs": [
    {
     "data": {
      "text/html": [
       "<div>\n",
       "<style scoped>\n",
       "    .dataframe tbody tr th:only-of-type {\n",
       "        vertical-align: middle;\n",
       "    }\n",
       "\n",
       "    .dataframe tbody tr th {\n",
       "        vertical-align: top;\n",
       "    }\n",
       "\n",
       "    .dataframe thead th {\n",
       "        text-align: right;\n",
       "    }\n",
       "</style>\n",
       "<table border=\"1\" class=\"dataframe\">\n",
       "  <thead>\n",
       "    <tr style=\"text-align: right;\">\n",
       "      <th></th>\n",
       "      <th>id</th>\n",
       "      <th>release_date</th>\n",
       "      <th>movie</th>\n",
       "      <th>production_budget</th>\n",
       "      <th>domestic_gross</th>\n",
       "      <th>worldwide_gross</th>\n",
       "    </tr>\n",
       "  </thead>\n",
       "  <tbody>\n",
       "    <tr>\n",
       "      <th>0</th>\n",
       "      <td>1</td>\n",
       "      <td>Dec 18, 2009</td>\n",
       "      <td>Avatar</td>\n",
       "      <td>$425,000,000</td>\n",
       "      <td>$760,507,625</td>\n",
       "      <td>$2,776,345,279</td>\n",
       "    </tr>\n",
       "    <tr>\n",
       "      <th>1</th>\n",
       "      <td>2</td>\n",
       "      <td>May 20, 2011</td>\n",
       "      <td>Pirates of the Caribbean: On Stranger Tides</td>\n",
       "      <td>$410,600,000</td>\n",
       "      <td>$241,063,875</td>\n",
       "      <td>$1,045,663,875</td>\n",
       "    </tr>\n",
       "    <tr>\n",
       "      <th>2</th>\n",
       "      <td>3</td>\n",
       "      <td>Jun 7, 2019</td>\n",
       "      <td>Dark Phoenix</td>\n",
       "      <td>$350,000,000</td>\n",
       "      <td>$42,762,350</td>\n",
       "      <td>$149,762,350</td>\n",
       "    </tr>\n",
       "    <tr>\n",
       "      <th>3</th>\n",
       "      <td>4</td>\n",
       "      <td>May 1, 2015</td>\n",
       "      <td>Avengers: Age of Ultron</td>\n",
       "      <td>$330,600,000</td>\n",
       "      <td>$459,005,868</td>\n",
       "      <td>$1,403,013,963</td>\n",
       "    </tr>\n",
       "    <tr>\n",
       "      <th>4</th>\n",
       "      <td>5</td>\n",
       "      <td>Dec 15, 2017</td>\n",
       "      <td>Star Wars Ep. VIII: The Last Jedi</td>\n",
       "      <td>$317,000,000</td>\n",
       "      <td>$620,181,382</td>\n",
       "      <td>$1,316,721,747</td>\n",
       "    </tr>\n",
       "    <tr>\n",
       "      <th>...</th>\n",
       "      <td>...</td>\n",
       "      <td>...</td>\n",
       "      <td>...</td>\n",
       "      <td>...</td>\n",
       "      <td>...</td>\n",
       "      <td>...</td>\n",
       "    </tr>\n",
       "    <tr>\n",
       "      <th>5777</th>\n",
       "      <td>78</td>\n",
       "      <td>Dec 31, 2018</td>\n",
       "      <td>Red 11</td>\n",
       "      <td>$7,000</td>\n",
       "      <td>$0</td>\n",
       "      <td>$0</td>\n",
       "    </tr>\n",
       "    <tr>\n",
       "      <th>5778</th>\n",
       "      <td>79</td>\n",
       "      <td>Apr 2, 1999</td>\n",
       "      <td>Following</td>\n",
       "      <td>$6,000</td>\n",
       "      <td>$48,482</td>\n",
       "      <td>$240,495</td>\n",
       "    </tr>\n",
       "    <tr>\n",
       "      <th>5779</th>\n",
       "      <td>80</td>\n",
       "      <td>Jul 13, 2005</td>\n",
       "      <td>Return to the Land of Wonders</td>\n",
       "      <td>$5,000</td>\n",
       "      <td>$1,338</td>\n",
       "      <td>$1,338</td>\n",
       "    </tr>\n",
       "    <tr>\n",
       "      <th>5780</th>\n",
       "      <td>81</td>\n",
       "      <td>Sep 29, 2015</td>\n",
       "      <td>A Plague So Pleasant</td>\n",
       "      <td>$1,400</td>\n",
       "      <td>$0</td>\n",
       "      <td>$0</td>\n",
       "    </tr>\n",
       "    <tr>\n",
       "      <th>5781</th>\n",
       "      <td>82</td>\n",
       "      <td>Aug 5, 2005</td>\n",
       "      <td>My Date With Drew</td>\n",
       "      <td>$1,100</td>\n",
       "      <td>$181,041</td>\n",
       "      <td>$181,041</td>\n",
       "    </tr>\n",
       "  </tbody>\n",
       "</table>\n",
       "<p>5782 rows × 6 columns</p>\n",
       "</div>"
      ],
      "text/plain": [
       "      id  release_date                                        movie  \\\n",
       "0      1  Dec 18, 2009                                       Avatar   \n",
       "1      2  May 20, 2011  Pirates of the Caribbean: On Stranger Tides   \n",
       "2      3   Jun 7, 2019                                 Dark Phoenix   \n",
       "3      4   May 1, 2015                      Avengers: Age of Ultron   \n",
       "4      5  Dec 15, 2017            Star Wars Ep. VIII: The Last Jedi   \n",
       "...   ..           ...                                          ...   \n",
       "5777  78  Dec 31, 2018                                       Red 11   \n",
       "5778  79   Apr 2, 1999                                    Following   \n",
       "5779  80  Jul 13, 2005                Return to the Land of Wonders   \n",
       "5780  81  Sep 29, 2015                         A Plague So Pleasant   \n",
       "5781  82   Aug 5, 2005                            My Date With Drew   \n",
       "\n",
       "     production_budget domestic_gross worldwide_gross  \n",
       "0         $425,000,000   $760,507,625  $2,776,345,279  \n",
       "1         $410,600,000   $241,063,875  $1,045,663,875  \n",
       "2         $350,000,000    $42,762,350    $149,762,350  \n",
       "3         $330,600,000   $459,005,868  $1,403,013,963  \n",
       "4         $317,000,000   $620,181,382  $1,316,721,747  \n",
       "...                ...            ...             ...  \n",
       "5777            $7,000             $0              $0  \n",
       "5778            $6,000        $48,482        $240,495  \n",
       "5779            $5,000         $1,338          $1,338  \n",
       "5780            $1,400             $0              $0  \n",
       "5781            $1,100       $181,041        $181,041  \n",
       "\n",
       "[5782 rows x 6 columns]"
      ]
     },
     "execution_count": 24,
     "metadata": {},
     "output_type": "execute_result"
    }
   ],
   "source": [
    "df_movie_budgets=pd.read_csv(r\"zippedData\\tn.movie_budgets.csv\")\n",
    "df_movie_budgets"
   ]
  },
  {
   "cell_type": "code",
   "execution_count": 25,
   "metadata": {},
   "outputs": [
    {
     "name": "stdout",
     "output_type": "stream",
     "text": [
      "budget_range\n",
      "<10M          14.250859\n",
      "10M-50M       67.807611\n",
      "50M-100M     102.138960\n",
      "100M-500M    180.602767\n",
      ">500M               NaN\n",
      "Name: ROI, dtype: float64\n"
     ]
    }
   ],
   "source": [
    " #Convert budget and gross columns to numeric values\n",
    "df_movie_budgets['production_budget'] = df_movie_budgets['production_budget'].str.replace('$', '').str.replace(',', '').astype(float)\n",
    "df_movie_budgets['worldwide_gross'] = df_movie_budgets['worldwide_gross'].str.replace('$', '').str.replace(',', '').astype(float)\n",
    "\n",
    "# Calculate ROI\n",
    "df_movie_budgets['ROI'] = ((df_movie_budgets['worldwide_gross'] - df_movie_budgets['production_budget']) / df_movie_budgets['production_budget']) * 100\n",
    "\n",
    "# Analyze ROI based on different criteria\n",
    "# For example, you can analyze ROI based on different budget ranges:\n",
    "budget_bins = [0, 10000000, 50000000, 100000000, 500000000, float('inf')]\n",
    "budget_labels = ['<10M', '10M-50M', '50M-100M', '100M-500M', '>500M']\n",
    "df_movie_budgets['budget_range'] = pd.cut(df_movie_budgets['production_budget'], bins=budget_bins, labels=budget_labels)\n",
    "\n",
    "# Calculate median ROI for each budget range\n",
    "median_roi_by_budget_range = df_movie_budgets.groupby('budget_range')['ROI'].median()\n",
    "\n",
    "print(median_roi_by_budget_range)"
   ]
  },
  {
   "cell_type": "code",
   "execution_count": 26,
   "metadata": {},
   "outputs": [
    {
     "data": {
      "image/png": "[encoded data removed]",
      "text/plain": [
       "<Figure size 720x432 with 1 Axes>"
      ]
     },
     "metadata": {},
     "output_type": "display_data"
    }
   ],
   "source": [
    "\n",
    "\n",
    "# Create a DataFrame with the ROI analysis findings\n",
    "roi_data = {\n",
    "    'budget_range': ['<10M', '10M-50M', '50M-100M', '100M-500M', '>500M'],\n",
    "    'median_roi': [14.25, 67.81, 102.14, 180.60, None]  # Including None for the missing value\n",
    "}\n",
    "roi_df = pd.DataFrame(roi_data)\n",
    "\n",
    "# Plotting the bar chart\n",
    "plt.figure(figsize=(10, 6))\n",
    "sns.barplot(x='budget_range', y='median_roi', data=roi_df, palette='viridis')\n",
    "plt.title('Median ROI by Production Budget Range', fontsize=16)\n",
    "plt.xlabel('Production Budget Range', fontsize=14)\n",
    "plt.ylabel('Median ROI (%)', fontsize=14)\n",
    "plt.xticks(fontsize=12)\n",
    "plt.yticks(fontsize=12)\n",
    "plt.grid(axis='y', linestyle='--', alpha=0.5)\n",
    "plt.tight_layout()\n",
    "plt.show()\n"
   ]
  },
  {
   "cell_type": "markdown",
   "metadata": {},
   "source": [
    "**INFERENCE**\n",
    "\n",
    "Budget Range vs. Median ROI:\n",
    "\n",
    "The x-axis represents different production budget ranges, categorized as \"<10M\", \"10M-50M\", \"50M-100M\", \"100M-500M\", and \">500M\".\n",
    "The y-axis represents the median ROI percentage (%), which indicates the profitability of movies relative to their budget.\n",
    "\n",
    "\n"
   ]
  },
  {
   "cell_type": "markdown",
   "metadata": {},
   "source": [
    "**RECOMMENDATION**\n",
    "\n",
    "While higher-budget films tend to have higher median ROI, there are diminishing returns as budgets increase. Therefore, careful consideration of budget allocation and risk assessment is essential for optimizing profitability."
   ]
  },
  {
   "cell_type": "markdown",
   "metadata": {},
   "source": [
    "**Revenue Trends Over Time**"
   ]
  },
  {
   "cell_type": "code",
   "execution_count": 27,
   "metadata": {},
   "outputs": [
    {
     "data": {
      "image/png": "[encoded data removed]",
      "text/plain": [
       "<Figure size 864x432 with 1 Axes>"
      ]
     },
     "metadata": {},
     "output_type": "display_data"
    }
   ],
   "source": [
    "\n",
    "# Convert 'release_date' to datetime format\n",
    "df_movie_budgets['release_date'] = pd.to_datetime(df_movie_budgets['release_date'])\n",
    "\n",
    "# Extract year from 'release_date'\n",
    "df_movie_budgets['year'] = df_movie_budgets['release_date'].dt.year\n",
    "\n",
    "# Group by year and calculate total revenue for each year\n",
    "revenue_by_year = df_movie_budgets.groupby('year')['worldwide_gross'].sum()\n",
    "\n",
    "# Plot revenue trends over time\n",
    "plt.figure(figsize=(12, 6))\n",
    "revenue_by_year.plot(marker='o', color='b', linestyle='-')\n",
    "plt.title('Movie Industry Revenue Trends Over Time')\n",
    "plt.xlabel('Year')\n",
    "plt.ylabel('Total Revenue (Worldwide Gross)')\n",
    "plt.grid(True)\n",
    "plt.show()\n"
   ]
  },
  {
   "cell_type": "markdown",
   "metadata": {},
   "source": [
    "**INFERENCE**\n",
    "\n",
    "The total revenue of the movie industry saw a significant drop in 2020 compared to previous years. The impact of the pandemic highlighted the industry's vulnerability to external factors and accelerated ongoing trends towards digital distribution and streaming services. Despite the challenges faced in 2020, the movie industry continues to adapt and evolve in response to changing consumer behavior and market dynamics."
   ]
  },
  {
   "cell_type": "markdown",
   "metadata": {},
   "source": [
    "**RECOMMENDATION**\n",
    "\n",
    "Embrace digital transformation, foster strategic partnerships, and leverage data-driven insights, to navigate the challenges posed by the pandemic and capitalize on the opportunities presented by the shift towards digital distribution and streaming services to drive revenue growth and sustain long-term success in the digital era"
   ]
  },
  {
   "cell_type": "markdown",
   "metadata": {},
   "source": [
    "**Do budget allocations correlate with revenue generation?**"
   ]
  },
  {
   "cell_type": "code",
   "execution_count": 28,
   "metadata": {},
   "outputs": [
    {
     "name": "stdout",
     "output_type": "stream",
     "text": [
      "<class 'pandas.core.frame.DataFrame'>\n",
      "Int64Index: 5782 entries, 0 to 5781\n",
      "Data columns (total 20 columns):\n",
      " #   Column             Non-Null Count  Dtype         \n",
      "---  ------             --------------  -----         \n",
      " 0   id                 5782 non-null   int64         \n",
      " 1   release_date       5782 non-null   datetime64[ns]\n",
      " 2   movie              5782 non-null   object        \n",
      " 3   production_budget  5782 non-null   float64       \n",
      " 4   domestic_gross     5782 non-null   object        \n",
      " 5   worldwide_gross    5782 non-null   float64       \n",
      " 6   ROI                5782 non-null   float64       \n",
      " 7   budget_range       5782 non-null   category      \n",
      " 8   year               5782 non-null   int64         \n",
      " 9   synopsis           4508 non-null   object        \n",
      " 10  rating             4624 non-null   object        \n",
      " 11  genre              4624 non-null   object        \n",
      " 12  director           3874 non-null   object        \n",
      " 13  writer             3412 non-null   object        \n",
      " 14  theater_date       3299 non-null   object        \n",
      " 15  dvd_date           3299 non-null   object        \n",
      " 16  currency           4682 non-null   object        \n",
      " 17  box_office         4682 non-null   float64       \n",
      " 18  runtime            4508 non-null   object        \n",
      " 19  studio             4682 non-null   object        \n",
      "dtypes: category(1), datetime64[ns](1), float64(4), int64(2), object(12)\n",
      "memory usage: 909.3+ KB\n"
     ]
    }
   ],
   "source": [
    "# Merge df_movie_budgets with df_imbd on the 'id' column\n",
    "# Merge df_movie_budgets with df_imbd_dropped on the 'id' column\n",
    "merged_df = df_movie_budgets.merge(df_imbd, on='id', how='left')\n",
    "merged_df.info()\n",
    "# Now merged_df contains the combined information from both dataframes based on movie id"
   ]
  },
  {
   "cell_type": "code",
   "execution_count": 29,
   "metadata": {},
   "outputs": [
    {
     "data": {
      "image/png": "[encoded data removed]",
      "text/plain": [
       "<Figure size 720x432 with 1 Axes>"
      ]
     },
     "metadata": {},
     "output_type": "display_data"
    }
   ],
   "source": [
    "import matplotlib.pyplot as plt\n",
    "import seaborn as sns\n",
    "\n",
    "# Filter out rows where both budget and revenue are available\n",
    "studio_budget_revenue = merged_df[['studio', 'production_budget', 'worldwide_gross']].dropna()\n",
    "\n",
    "# Plot the scatter plot\n",
    "plt.figure(figsize=(10, 6))\n",
    "sns.scatterplot(x='production_budget', y='worldwide_gross', hue='studio', data=studio_budget_revenue, palette='Set1', alpha=0.7)\n",
    "plt.title('Studio Production Budget vs. Worldwide Gross Revenue', fontsize=16)\n",
    "plt.xlabel('Production Budget (in billions)', fontsize=14)\n",
    "plt.ylabel('Worldwide Gross Revenue (in billions)', fontsize=14)\n",
    "plt.xticks(fontsize=12)\n",
    "plt.yticks(fontsize=12)\n",
    "plt.legend(title='Studio', bbox_to_anchor=(1.05, 1), loc='upper left')\n",
    "plt.grid(True)\n",
    "plt.tight_layout()\n",
    "plt.show()\n"
   ]
  },
  {
   "cell_type": "markdown",
   "metadata": {},
   "source": [
    "**INFERENCES**\n",
    "\n",
    "The positive correlation suggests that studios that invest more in movie production tend to generate higher revenue. This indicates that there's a direct relationship between the resources allocated to a film project and its potential to generate returns"
   ]
  },
  {
   "cell_type": "markdown",
   "metadata": {},
   "source": [
    "**RECOMMENDATION**\n",
    "\n",
    "Based on these findings, we recommend that Microsoft consider allocating higher budgets to movie production, especially for projects with significant revenue potential. By investing more resources upfront, studios can enhance the quality of their films and increase their chances of success at the box office."
   ]
  },
  {
   "cell_type": "markdown",
   "metadata": {},
   "source": [
    "**Investigate whether there's a correlation between movie ratings and revenue.**"
   ]
  },
  {
   "cell_type": "code",
   "execution_count": 30,
   "metadata": {},
   "outputs": [
    {
     "data": {
      "image/png": "[encoded data removed]",
      "text/plain": [
       "<Figure size 720x432 with 1 Axes>"
      ]
     },
     "metadata": {},
     "output_type": "display_data"
    }
   ],
   "source": [
    "# Filter out rows where both rating and revenue are available\n",
    "rating_revenue = merged_df[['rating', 'worldwide_gross']].dropna()\n",
    "\n",
    "# Plot the scatter plot\n",
    "plt.figure(figsize=(10, 6))\n",
    "sns.scatterplot(x='rating', y='worldwide_gross', data=rating_revenue, color='blue', alpha=0.7)\n",
    "plt.title('Movie Rating vs. Worldwide Gross Revenue', fontsize=16)\n",
    "plt.xlabel('Rating', fontsize=14)\n",
    "plt.ylabel('Worldwide Gross Revenue (in billions)', fontsize=14)\n",
    "plt.xticks(fontsize=12)\n",
    "plt.yticks(fontsize=12)\n",
    "plt.grid(True)\n",
    "plt.tight_layout()\n",
    "plt.show()\n"
   ]
  },
  {
   "cell_type": "markdown",
   "metadata": {},
   "source": [
    "**INFERENCE**\n",
    "\n",
    "Movies with higher ratings tend to generate more substantial revenue, indicating that critical acclaim may contribute to commercial success in terms of box office earnings."
   ]
  },
  {
   "cell_type": "markdown",
   "metadata": {},
   "source": [
    "**RECOMMENDATION**\n",
    "\n",
    "Focus on Quality and Audience Engagement: Given the positive correlation between high ratings and revenue, studios should prioritize producing high-quality content that resonates with audiences."
   ]
  },
  {
   "cell_type": "markdown",
   "metadata": {},
   "source": [
    "**Seasonal Trends**"
   ]
  },
  {
   "cell_type": "code",
   "execution_count": 31,
   "metadata": {},
   "outputs": [
    {
     "ename": "NameError",
     "evalue": "name 'df_imbd_dropped' is not defined",
     "output_type": "error",
     "traceback": [
      "\u001b[1;31m---------------------------------------------------------------------------\u001b[0m",
      "\u001b[1;31mNameError\u001b[0m                                 Traceback (most recent call last)",
      "\u001b[1;32m<ipython-input-31-51f99cd0a492>\u001b[0m in \u001b[0;36m<module>\u001b[1;34m\u001b[0m\n\u001b[0;32m      2\u001b[0m \u001b[1;32mimport\u001b[0m \u001b[0mmatplotlib\u001b[0m\u001b[1;33m.\u001b[0m\u001b[0mpyplot\u001b[0m \u001b[1;32mas\u001b[0m \u001b[0mplt\u001b[0m\u001b[1;33m\u001b[0m\u001b[1;33m\u001b[0m\u001b[0m\n\u001b[0;32m      3\u001b[0m \u001b[1;32mimport\u001b[0m \u001b[0mseaborn\u001b[0m \u001b[1;32mas\u001b[0m \u001b[0msns\u001b[0m\u001b[1;33m\u001b[0m\u001b[1;33m\u001b[0m\u001b[0m\n\u001b[1;32m----> 4\u001b[1;33m \u001b[0mmerged_df\u001b[0m \u001b[1;33m=\u001b[0m \u001b[0mdf_movie_budgets\u001b[0m\u001b[1;33m.\u001b[0m\u001b[0mmerge\u001b[0m\u001b[1;33m(\u001b[0m\u001b[0mdf_imbd_dropped\u001b[0m\u001b[1;33m,\u001b[0m \u001b[0mon\u001b[0m\u001b[1;33m=\u001b[0m\u001b[1;34m'id'\u001b[0m\u001b[1;33m,\u001b[0m \u001b[0mhow\u001b[0m\u001b[1;33m=\u001b[0m\u001b[1;34m'left'\u001b[0m\u001b[1;33m)\u001b[0m\u001b[1;33m\u001b[0m\u001b[1;33m\u001b[0m\u001b[0m\n\u001b[0m\u001b[0;32m      5\u001b[0m \u001b[1;31m# Convert 'worldwide_gross' column to numeric\u001b[0m\u001b[1;33m\u001b[0m\u001b[1;33m\u001b[0m\u001b[1;33m\u001b[0m\u001b[0m\n\u001b[0;32m      6\u001b[0m \u001b[0mmerged_df\u001b[0m\u001b[1;33m[\u001b[0m\u001b[1;34m'worldwide_gross'\u001b[0m\u001b[1;33m]\u001b[0m \u001b[1;33m=\u001b[0m \u001b[0mpd\u001b[0m\u001b[1;33m.\u001b[0m\u001b[0mto_numeric\u001b[0m\u001b[1;33m(\u001b[0m\u001b[0mmerged_df\u001b[0m\u001b[1;33m[\u001b[0m\u001b[1;34m'worldwide_gross'\u001b[0m\u001b[1;33m]\u001b[0m\u001b[1;33m,\u001b[0m \u001b[0merrors\u001b[0m\u001b[1;33m=\u001b[0m\u001b[1;34m'coerce'\u001b[0m\u001b[1;33m)\u001b[0m\u001b[1;33m\u001b[0m\u001b[1;33m\u001b[0m\u001b[0m\n",
      "\u001b[1;31mNameError\u001b[0m: name 'df_imbd_dropped' is not defined"
     ]
    }
   ],
   "source": [
    "import pandas as pd\n",
    "import matplotlib.pyplot as plt\n",
    "import seaborn as sns\n",
    "merged_df = df_movie_budgets.merge(df_imbd_dropped, on='id', how='left')\n",
    "# Convert 'worldwide_gross' column to numeric\n",
    "merged_df['worldwide_gross'] = pd.to_numeric(merged_df['worldwide_gross'], errors='coerce')\n",
    "\n",
    "# Extract month and season from the 'release_date' column\n",
    "merged_df['month'] = merged_df['release_date'].dt.month\n",
    "merged_df['season'] = merged_df['release_date'].dt.month // 3 % 4\n",
    "\n",
    "# Group by season and month, then calculate total revenue\n",
    "seasonal_revenue = merged_df.groupby('season')['worldwide_gross'].sum()\n",
    "monthly_revenue = merged_df.groupby('month')['worldwide_gross'].sum()\n",
    "\n",
    "# Map season and month numbers to their respective names\n",
    "season_names = ['Spring', 'Summer', 'Fall', 'Winter']\n",
    "month_names = ['Jan', 'Feb', 'Mar', 'Apr', 'May', 'Jun', 'Jul', 'Aug', 'Sep', 'Oct', 'Nov', 'Dec']\n",
    "seasonal_revenue.index = [season_names[season] for season in seasonal_revenue.index]\n",
    "monthly_revenue.index = [month_names[month-1] for month in monthly_revenue.index]\n",
    "\n",
    "# Plot both seasonal and monthly revenue trends on the same graph with dual y-axes\n",
    "fig, ax1 = plt.subplots(figsize=(12, 6))\n",
    "\n",
    "# Plot seasonal revenue trends\n",
    "ax1.bar(seasonal_revenue.index, seasonal_revenue.values, color='skyblue', label='Seasonal Revenue')\n",
    "ax1.set_xlabel('Time', fontsize=14)\n",
    "ax1.set_ylabel('Seasonal Revenue', fontsize=14)\n",
    "ax1.tick_params(axis='x', rotation=45)\n",
    "ax1.tick_params(axis='y', labelcolor='skyblue')\n",
    "\n",
    "# Create a secondary y-axis for monthly revenue\n",
    "ax2 = ax1.twinx()\n",
    "ax2.plot(monthly_revenue.index, monthly_revenue.values, marker='o', color='red', label='Monthly Revenue')\n",
    "ax2.set_ylabel('Monthly Revenue', fontsize=14)\n",
    "ax2.tick_params(axis='y', labelcolor='red')\n",
    "\n",
    "# Add legend\n",
    "fig.legend(loc=\"upper right\", fontsize=12)\n",
    "\n",
    "plt.title('Seasonal and Monthly Revenue Trends', fontsize=16)\n",
    "plt.tight_layout()\n",
    "plt.show()\n"
   ]
  },
  {
   "cell_type": "markdown",
   "metadata": {},
   "source": [
    "**INFERENCE**\n",
    "\n",
    "Movie revenue  exhibit strong seasonal patterns."
   ]
  },
  {
   "cell_type": "markdown",
   "metadata": {},
   "source": [
    "**RECOMMENDATION**\n",
    "leverage insights from seasonal revenue trends to help Microsoft make informed decisions regarding content creation, release timing, marketing strategies, and audience engagement, ultimately maximizing revenue potential and optimizing business \n"
   ]
  },
  {
   "cell_type": "code",
   "execution_count": null,
   "metadata": {},
   "outputs": [],
   "source": []
  },
  {
   "cell_type": "code",
   "execution_count": null,
   "metadata": {},
   "outputs": [],
   "source": [
    "# Perform inner join based on the 'id' column\n",
    "critics_df = pd.merge(df_tmdm_movies, df_reviews, on='id', how='inner')\n",
    "\n",
    "# Display the merged DataFrame\n",
    "critics_df.head()\n",
    "critics_df.info()"
   ]
  },
  {
   "cell_type": "markdown",
   "metadata": {},
   "source": [
    "**CORRELATION ANALYSIS:**"
   ]
  },
  {
   "cell_type": "code",
   "execution_count": null,
   "metadata": {},
   "outputs": [],
   "source": [
    "import seaborn as sns\n",
    "import matplotlib.pyplot as plt\n",
    "\n",
    "# Select numerical columns for correlation analysis\n",
    "numerical_columns = critics_df.select_dtypes(include='number')\n",
    "\n",
    "# Calculate correlation matrix\n",
    "correlation_matrix = numerical_columns.corr()\n",
    "\n",
    "# Visualize the correlation matrix using a heatmap\n",
    "plt.figure(figsize=(10, 8))\n",
    "sns.heatmap(correlation_matrix, annot=True, cmap='coolwarm', fmt=\".2f\", linewidths=0.5)\n",
    "plt.title('Correlation Matrix of Numerical Variables in critics_df')\n",
    "plt.show()\n"
   ]
  },
  {
   "cell_type": "markdown",
   "metadata": {},
   "source": []
  }
 ],
 "metadata": {
  "kernelspec": {
   "display_name": "Python 3",
   "language": "python",
   "name": "python3"
  },
  "language_info": {
   "codemirror_mode": {
    "name": "ipython",
    "version": 3
   },
   "file_extension": ".py",
   "mimetype": "text/x-python",
   "name": "python",
   "nbconvert_exporter": "python",
   "pygments_lexer": "ipython3",
   "version": "3.8.5"
  }
 },
 "nbformat": 4,
 "nbformat_minor": 2
}
